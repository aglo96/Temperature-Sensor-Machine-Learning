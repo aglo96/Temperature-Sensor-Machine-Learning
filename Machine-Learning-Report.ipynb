{
 "cells": [
  {
   "attachments": {},
   "cell_type": "markdown",
   "metadata": {},
   "source": [
    "# Report for 2D Project Physical World and Digital World\n",
    "\n",
    "Cohort: 9\n",
    "\n",
    "Team No.: 8\n",
    "\n",
    "Members:\n",
    "\n",
    "Chan Jun Wei - 1002920\n",
    "\n",
    "Gabriel Chan Zheng Yong - 1002820\n",
    "\n",
    "Lo An Guo - 1003142\n",
    "\n",
    "Khairunnisa Bte Kunhimohamed N - 1002508\n",
    "\n",
    "Yoo Fei Yi - 1003102"
   ]
  },
  {
   "cell_type": "markdown",
   "metadata": {},
   "source": [
    "# Introduction\n",
    "\n",
    "Contact thermometers cannot directly measure the temperature of their surroundings, instead they measure their own temperature. Hence, when measuring the temperature of any object with a contact thermometer, heat must flow between the thermometer and the object until thermal equilibrium is approached. Only then will the temperature of the thermometer be sufficiently close to the object's actual temperature. The rate of heat flow determines the speed at which the thermometer will approach thermal equilibrium. The heat flow is in turn determined by the thermal conductance between the thermometer and the object. Conventional thermometers can take around 60 seconds to deliver an accurate reading.\n",
    "\n",
    "However, the system of the thermometer and the object can, to a first-order approximation, be modelled by Newton's law. The application of Newton's law yields a fist-order differential equation describing the evolution of the system over time. In other words, it is possible to find a relationship between the behaviour of the system in a shorter time period and the final temperature. This allows for the predicition of the final temperature without having to wait for thermal equilibrium to be established.\n",
    "\n",
    "Linear regression is used to predict the final temperature and the average accuracy of the model was measured to be 97.4%."
   ]
  },
  {
   "cell_type": "markdown",
   "metadata": {},
   "source": [
    "# Description of Data from Experiment"
   ]
  },
  {
   "cell_type": "markdown",
   "metadata": {},
   "source": [
    " ## Data Collection\n",
    "\n",
    "To obtain the dataset, a hollow styrofoam sphere was filled halfway with hot water (estimated 2 litre volume, the sphere was not completely filled to due issues with leakage). This is to ensure that minimal heat loss to the surroundings occurs during the measurement session, and that the water is as close as possible to an ideal heatsink as modelled in the physical analysis. A loop was used to continuously read the thermometer temperature and the associated timing for 100 seconds as fast as the thermometer allows (around once every 0.88 seconds). The measurements are repeated over a range of temperatures between 10 and 60 degrees Celsius until 12 sets of measurements are obtained. The reference cooking thermometer has been confirmed in earlier tests to agree with the readings of the temperature sensor, therefore the final temperature of the temperature sensor is used as the final temperature.\n"
   ]
  },
  {
   "cell_type": "markdown",
   "metadata": {},
   "source": [
    "## Data Preparation\n",
    "\n",
    "In order to put the data into a form suitable for training a regression model, the measurements were truncated such that the time at 0 seconds corresponds to the moment the thermometer is immersed in the water and its temperature starts increasing. The final temperature for each measurement is set as the temperature attained at the end of the measurement session. This stage was performed manually. The excel file is included."
   ]
  },
  {
   "attachments": {
    "scatter.png": {
     "image/png": "[encoded data removed]"
    }
   },
   "cell_type": "markdown",
   "metadata": {},
   "source": [
    "## Data Format\n",
    "\n",
    "The dataset consists of 12 sets of temperature-time measurements with final temperatures ranging from 10 to 60 degrees Celsius.  For training the model, only the first 10 readings (corresponding to the first 8 seconds) of each dataset is used since the model is expected to be predictive. The initial temperature is then subtracted from each measurement set. This is because the solution to the Newton's law equation can be expressed as an equation giving the temperature change as an exponential function of time. The final temperature can be reconstructed with the initial temperature and the predicted final temperature change. This means the initial temperature is the first feature.\n",
    "\n",
    "The truncated measurements are then fit to a quadratic function of time and the initial time derivative of the temperature change is obtained as the coefficient of the linear term. Newton's law states that the rate of heat transfer (and by extension the rate of change of the temperature) between objects is proportional to the temperature difference. Therefore the initial time derivative is expected to be a linear function of the final temperature change. This gives the second feature.\n",
    "\n",
    "![scatter.png](attachment:scatter.png)\n",
    "\n",
    "The code for preprocessing the data is given below.\n",
    "\n"
   ]
  },
  {
   "cell_type": "code",
   "execution_count": 17,
   "metadata": {
    "collapsed": true
   },
   "outputs": [],
   "source": [
    "def preprocess(df):\n",
    "    time = df.values[:9,0].reshape(-1,1); temp = df.values[:9,1].reshape(-1,1)\n",
    "    delta_t = temp - temp[0][0]\n",
    "    poly_time = PolynomialFeatures(2,include_bias=False).fit_transform(time)\n",
    "    maclaurin = linear_model.LinearRegression()\n",
    "    maclaurin.fit(poly_time,delta_t)\n",
    "    init_grad = maclaurin.coef_[0][0]; init_temp = temp[0][0]\n",
    "    return [init_grad, init_temp]\n"
   ]
  },
  {
   "cell_type": "markdown",
   "metadata": {},
   "source": [
    "# Training Model\n",
    "\n",
    "To train the model, the dataset was first preprocessed and split into training and testing sets in a 10:2 ratio. The model, implemented usind a class, is trained on the extracted features and reference final temperatures. The train method of the class subtracts the initial temperatures from the final temperatures and uses the difference to train the internal scikit linear regression model. The predict method of the class uses the input gradient feature to predict the final temperature change, then adds the initial temperature feature to the result to obtain the predicted final temperature. The class definition is given below."
   ]
  },
  {
   "cell_type": "code",
   "execution_count": 18,
   "metadata": {
    "collapsed": true
   },
   "outputs": [],
   "source": [
    "class tempmodel:\n",
    "    def __init__(self):\n",
    "        self.model = linear_model.LinearRegression()\n",
    "        \n",
    "    def train(self,feat_list,target_list):\n",
    "        grad_list = feat_list[:,0].reshape(-1,1)\n",
    "        target_list -= feat_list[:,1].reshape(-1,1)\n",
    "        self.model.fit(grad_list,target_list)\n",
    "        return self.model.coef_\n",
    "        \n",
    "    def predict(self,features):\n",
    "        init_grad = features[0]; init_temp = features[1]\n",
    "        delta_t_final = self.model.predict(init_grad) + init_temp\n",
    "        return delta_t_final[0][0]"
   ]
  },
  {
   "cell_type": "markdown",
   "metadata": {},
   "source": [
    "# Verification and Accuracy\n",
    "\n",
    "The testing set as split in the previous section is used to validate the model. As there are only 2 sets of temperature data in the testing set. The test is repeated 20 times with different random seeds and the accuracy of the 40 tests averaged. The average accuracy was 97.4%. The complete code used to train and test the accuracy is included in the accompanying modeltraining.py file.\n",
    "\n",
    "However, as this is a linear model, the model will only work for the sensor used to train it. This is because the coefficient of the linearisation of the physical model contains terms dependent on the physical parameters (more specifically, the time constant) of the sensor - if a different sensor is used with different thermal conductivity, the model will fail to predict accurately. The time constant is also assumed to be constant, but in reality may vary. In cases where the time constant is different or variable, an alternative is to directly fit the theorectical curve itself to a small window of datapoints. The alternative fitting function using stochastic gradient descent is given below. A W12PredTherm.py file containing the function is also included. Since this method fits the theorectical curve itself with the time constant and final temperatures as parameters, it is expected to work on the instructor dataset as well. \n",
    "The accuracy of this method when used on the first 15 measurements of the sample data yielded an accuracy of 97.7% when compared to the sensor final temperature, and 98.9% when compared to the alcohol thermometer value. This alternative function is used in the physical demonstration.\n",
    "\n",
    "The disadvantage of this method is that stochastic gradient descent requires a significant number of iterations to converge. When run on the raspberry pi in a continuous loop (so that the program can predict the temperature continuously), the program can only sample once every 2.3 seconds. As it was set to predict using the previous 10 measurements, the program took 23 seconds to predict the final temperature. The prediction can be made faster by reducing the number of measurements used, but likely at the expense of accuracy. Alternatively, this method can be used to measure the new time constant, which is then used to correct the output of the pretrained linear model. This is possible as a detailed mathematical analysis will show that the final temperature is proportional to inital gradient of the temperature change (the selected feature) by the time constant. The correction multiplier is then the ratio of time constants. The time constant for the sample data was determined to be 19. However, this does not address the issue that the time constant varies with the temperature difference."
   ]
  },
  {
   "cell_type": "code",
   "execution_count": 19,
   "metadata": {
    "collapsed": true
   },
   "outputs": [],
   "source": [
    "# This function accepts a variable number of temperature-time datapoints.\n",
    "# The learning rate is calibrated for 10 temperature-time inputs.\n",
    "def tempfit(t,T): # t is a python list of timings, T is a list of temperatures, Ts is the final temperature and is returned in\n",
    "                  # the first element of W (weights)\n",
    "    Tpi = T[0]; tau = 18.; Ts = float(Tpi + tau*(T[1]-T[0])/(t[1]-t[0]))\n",
    "    W = np.asarray([Ts,tau]).reshape(-1,1) #W = [[Ts],[tau]]  tau is the time constant\n",
    "    \n",
    "    grad_mag = 1; step = np.asarray([0,0]).reshape(-1,1); wdc = 0\n",
    "    while grad_mag > 1e-6:\n",
    "        if wdc > 25000:\n",
    "            return W, loss_sum\n",
    "        X = np.exp(-t/W[1][0]); tX = -((Tpi-W[0][0])/W[1][0]**2)*np.multiply(t,X); L = T - (Tpi-W[0][0])*X - W[0][0]; loss_sum = L.sum()\n",
    "        XtX = np.concatenate((X.T,tX.T)); d_loss = 2*(np.matmul(XtX,L)+np.asarray([[-loss_sum],[0]]))\n",
    "        step = 0.43*d_loss + 0.69*step\n",
    "        W -= step; wdc += 1\n",
    "        grad_mag = np.linalg.norm(d_loss)\n",
    "        \n",
    "        return W, loss_sum # loss_sum is used to determine the goodness of fit. The predicted value is rejected and\n",
    "                            # the program displays 'predicting' if this value exceeds a set threshold (0.06)."
   ]
  },
  {
   "cell_type": "markdown",
   "metadata": {},
   "source": [
    "# Testing Using Instructor's Data\n",
    "(Student's Note: this won't work on the vanilla linear model)"
   ]
  },
  {
   "cell_type": "markdown",
   "metadata": {},
   "source": [
    "Instruction:\n",
    "\n",
    "* Store your trained model into a pickle object which can be loaded. \n",
    "* Read an excel file with the following format:\n",
    "```\n",
    "time (s)\treading\n",
    "0.00\t    25.812\n",
    "0.90\t    28.562\n",
    "1.79\t    31.875\n",
    "2.68\t    35.062\n",
    "3.55\t    37.937\n",
    "4.43\t    40.687\n",
    "5.30\t    43.25\n",
    "```\n",
    "where the first column indicates the time in seconds and the second column indicates the sensor reading in Celsius. \n",
    "* The number of rows in the instructors' data can be of any number. If your code has a minimum number of rows, your code must be able to handle and exit safely when the data provided is less than the required minimum.\n",
    "* Write a code to prepare the data for prediction.\n",
    "* Write a code to predict the final temperature.\n",
    "\n"
   ]
  },
  {
   "cell_type": "code",
   "execution_count": 20,
   "metadata": {},
   "outputs": [],
   "source": [
    "# write a code to load your trained model from a pickle object\n",
    "import pickle\n",
    "from modeltraining import tempmodel\n",
    "\n",
    "filename = 'model.p' # enter your pickle file name containing the model\n",
    "with open(filename,'rb') as f:\n",
    "    model = pickle.load(f)\n"
   ]
  },
  {
   "cell_type": "code",
   "execution_count": 21,
   "metadata": {
    "scrolled": true
   },
   "outputs": [
    {
     "ename": "IndexError",
     "evalue": "list index out of range",
     "output_type": "error",
     "traceback": [
      "\u001b[1;31m---------------------------------------------------------------------------\u001b[0m",
      "\u001b[1;31mIndexError\u001b[0m                                Traceback (most recent call last)",
      "\u001b[1;32m<ipython-input-21-b65acbf472d0>\u001b[0m in \u001b[0;36m<module>\u001b[1;34m()\u001b[0m\n\u001b[0;32m      6\u001b[0m \u001b[0mdataframe\u001b[0m \u001b[1;33m=\u001b[0m \u001b[1;33m{\u001b[0m\u001b[1;33m}\u001b[0m \u001b[1;31m# this is to store the data for different temperature, the keys are in filekey\u001b[0m\u001b[1;33m\u001b[0m\u001b[0m\n\u001b[0;32m      7\u001b[0m \u001b[1;32mfor\u001b[0m \u001b[0midx\u001b[0m \u001b[1;32min\u001b[0m \u001b[0mrange\u001b[0m\u001b[1;33m(\u001b[0m\u001b[0mnum_test\u001b[0m\u001b[1;33m)\u001b[0m\u001b[1;33m:\u001b[0m\u001b[1;33m\u001b[0m\u001b[0m\n\u001b[1;32m----> 8\u001b[1;33m     \u001b[0mdataframe\u001b[0m\u001b[1;33m[\u001b[0m\u001b[0mfilekey\u001b[0m\u001b[1;33m[\u001b[0m\u001b[0midx\u001b[0m\u001b[1;33m]\u001b[0m\u001b[1;33m]\u001b[0m \u001b[1;33m=\u001b[0m \u001b[0mpd\u001b[0m\u001b[1;33m.\u001b[0m\u001b[0mread_excel\u001b[0m\u001b[1;33m(\u001b[0m\u001b[0mfilename\u001b[0m\u001b[1;33m+\u001b[0m\u001b[0mfilekey\u001b[0m\u001b[1;33m[\u001b[0m\u001b[0midx\u001b[0m\u001b[1;33m]\u001b[0m\u001b[1;33m+\u001b[0m\u001b[1;34m'.xlsx'\u001b[0m\u001b[1;33m)\u001b[0m\u001b[1;33m\u001b[0m\u001b[0m\n\u001b[0m",
      "\u001b[1;31mIndexError\u001b[0m: list index out of range"
     ]
    }
   ],
   "source": [
    "# write a code to read an excel file\n",
    "import pandas as pd\n",
    "num_test = 9\n",
    "filename = 'temp_' \n",
    "filekey = [] # instructors will key in this\n",
    "dataframe = {} # this is to store the data for different temperature, the keys are in filekey\n",
    "for idx in range(num_test):\n",
    "    dataframe[filekey[idx]] = pd.read_excel(filename+filekey[idx]+'.xlsx')\n"
   ]
  },
  {
   "cell_type": "code",
   "execution_count": null,
   "metadata": {
    "collapsed": true
   },
   "outputs": [],
   "source": [
    "# write a code to prepare the data for predicting\n",
    "def preprocess(df):\n",
    "    # use this function to extract the features from the data frame\n",
    "    time = df.values[:9,0].reshape(-1,1); temp = df.values[:9,1].reshape(-1,1)\n",
    "    delta_t = temp - temp[0][0]\n",
    "    poly_time = PolynomialFeatures(2,include_bias=False).fit_transform(time)\n",
    "    maclaurin = linear_model.LinearRegression()\n",
    "    maclaurin.fit(poly_time,delta_t)\n",
    "    init_grad = maclaurin.coef_[0][0]; init_temp = temp[0][0]\n",
    "    return [init_grad, init_temp]\n",
    "\n",
    "data_test = {}\n",
    "for key in filekey:\n",
    "    data_test[key]=preprocess(dataframe[key])"
   ]
  },
  {
   "cell_type": "code",
   "execution_count": null,
   "metadata": {
    "collapsed": true
   },
   "outputs": [],
   "source": [
    "# write a code to predict the final temperature\n",
    "# store the predicted temperature in a variable called \"predicted\"\n",
    "# predicted is a dictionary where the keys are listed in filekey\n",
    "\n",
    "predicted = {}\n",
    "for key in filekey:\n",
    "    predicted[key]=model.predict(data_test[key])"
   ]
  },
  {
   "cell_type": "code",
   "execution_count": null,
   "metadata": {
    "collapsed": true
   },
   "outputs": [],
   "source": [
    "# checking accuracy\n",
    "\n",
    "# first instructor will load the actual temp from a pickle object\n",
    "import pickle\n",
    "error_d = {}\n",
    "accuracy_percent_d = {}\n",
    "\n",
    "for test in range(num_test):\n",
    "    filename = 'data_'+filekey[test]+'.pickle'\n",
    "    with open(filename,'rb') as f:\n",
    "        final_temp, worst_temp = pickle.load(f)\n",
    "\n",
    "    # then calculate the error\n",
    "    error_final = abs(final_temp-predicted[filekey[test]])\n",
    "    accuracy_final_percent = 100-error_final/final_temp*100\n",
    "    error_worst = abs(worst_temp-predicted[filekey[test]])\n",
    "    accuracy_worst_percent = 100-error_worst/worst_temp*100\n",
    "    \n",
    "    error_d[filekey[test]] = (error_final, error_worst)\n",
    "    accuracy_percent_d[filekey[test]] = (accuracy_final_percent, accuracy_worst_percent)\n",
    "\n",
    "    # displaying the error\n",
    "    print('===================================')\n",
    "    print('Testing: {}'.format(filekey[test]))\n",
    "    print('Predicted Temp: {:.2f}'.format(predicted[filekey[test]]))\n",
    "    print('Final Sensor Temp: {:.2f}, Alcohol Temp:{:.2f}'.format(final_temp, worst_temp))\n",
    "    print('Error w.r.t Final Sensor Temp: {:.2f} deg, {:.2f}% accuracy'.format(error_final, accuracy_final_percent))\n",
    "    print('Error w.r.t Alcohol Temp: {:.2f} deg, {:.2f}% accuracy'.format(error_worst, accuracy_worst_percent))\n",
    "    \n",
    "avg_final = sum([ final for final, worst in accuracy_percent_d.values()])/len(error_d.values())\n",
    "avg_worst = sum([ worst for final, worst in accuracy_percent_d.values()])/len(error_d.values())\n",
    "print('==============================')\n",
    "print('Average accuracy for final sensor temp: {:.2f}'.format(avg_final))\n",
    "print('AVerage accuracy for alcohol temp: {:.2f}'.format(avg_worst))\n"
   ]
  }
 ],
 "metadata": {
  "kernelspec": {
   "display_name": "Python 3",
   "language": "python",
   "name": "python3"
  },
  "language_info": {
   "codemirror_mode": {
    "name": "ipython",
    "version": 3
   },
   "file_extension": ".py",
   "mimetype": "text/x-python",
   "name": "python",
   "nbconvert_exporter": "python",
   "pygments_lexer": "ipython3",
   "version": "3.6.4"
  }
 },
 "nbformat": 4,
 "nbformat_minor": 2
}
